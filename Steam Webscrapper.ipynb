{
 "cells": [
  {
   "cell_type": "code",
   "execution_count": 46,
   "id": "4625a017-b6ef-43a4-9e83-7fdb27554343",
   "metadata": {},
   "outputs": [],
   "source": [
    "import requests \n",
    "import json \n",
    "import pandas as pd\n",
    "import numpy as np\n",
    "from tqdm import tqdm\n",
    "\n"
   ]
  },
  {
   "cell_type": "code",
   "execution_count": 2,
   "id": "153bcaa4-1e4c-43be-a990-cc7fb41bf67a",
   "metadata": {},
   "outputs": [
    {
     "name": "stdout",
     "output_type": "stream",
     "text": [
      "Hentai EroElf\n"
     ]
    }
   ],
   "source": [
    "URL = \"https://api.steampowered.com/ISteamApps/GetAppList/v2/?access_token=eyAidHlwIjogIkpXVCIsICJhbGciOiAiRWREU0EiIH0.eyAiaXNzIjogInI6MDAxOF8yNUMzMEJBMF8xNEY1QyIsICJzdWIiOiAiNzY1NjExOTg4NzQ0MjkzOTAiLCAiYXVkIjogWyAid2ViOnN0b3JlIiBdLCAiZXhwIjogMTczODU4ODQ1NiwgIm5iZiI6IDE3Mjk4NjEzNjYsICJpYXQiOiAxNzM4NTAxMzY2LCAianRpIjogIjAwMERfMjVDMzBCQTFfMDgzREQiLCAib2F0IjogMTczODUwMTM2NiwgInJ0X2V4cCI6IDE3NTY0OTE4NDIsICJwZXIiOiAwLCAiaXBfc3ViamVjdCI6ICI0OS4yMDUuODYuMTc5IiwgImlwX2NvbmZpcm1lciI6ICI0OS4yMDUuODYuMTc5IiB9.TbQ3rhuSsvVa2SbefL9U1sx3FIDWJPMqhEi2OQJ_BFSdkZDm-TWPjaADJ3DGHe07H0zyQ0idGhVFa-_H1sAeDg\"\n",
    "\n",
    "res = requests.get(URL)\n",
    "\n",
    "data_dict = res.json()['applist']['apps']\n",
    "data_dict_cl = {}\n",
    "\n",
    "for appid in data_dict:\n",
    "    data_dict_cl[appid[\"appid\"]] = appid[\"name\"]\n",
    "\n",
    "len(data_dict_cl)\n",
    "\n",
    "def get_gamename(id):\n",
    "    return data_dict_cl[id]\n",
    "\n"
   ]
  },
  {
   "cell_type": "code",
   "execution_count": 162,
   "id": "2d4817aa-0e46-4b60-b8e2-9132c2505605",
   "metadata": {},
   "outputs": [],
   "source": [
    "appl_df = pd.DataFrame(data_dict_cl.items(),columns=[\"app_id\",\"app_name\"])\n",
    "appl_df = appl_df[(appl_df[\"app_id\"] != '') & (appl_df[\"app_name\"] != '')].reset_index()"
   ]
  },
  {
   "cell_type": "code",
   "execution_count": 166,
   "id": "893a9f53-29c9-43e1-9dc2-9db7a66fe060",
   "metadata": {},
   "outputs": [
    {
     "data": {
      "text/html": [
       "<div>\n",
       "<style scoped>\n",
       "    .dataframe tbody tr th:only-of-type {\n",
       "        vertical-align: middle;\n",
       "    }\n",
       "\n",
       "    .dataframe tbody tr th {\n",
       "        vertical-align: top;\n",
       "    }\n",
       "\n",
       "    .dataframe thead th {\n",
       "        text-align: right;\n",
       "    }\n",
       "</style>\n",
       "<table border=\"1\" class=\"dataframe\">\n",
       "  <thead>\n",
       "    <tr style=\"text-align: right;\">\n",
       "      <th></th>\n",
       "      <th>index</th>\n",
       "      <th>app_id</th>\n",
       "      <th>app_name</th>\n",
       "    </tr>\n",
       "  </thead>\n",
       "  <tbody>\n",
       "    <tr>\n",
       "      <th>201</th>\n",
       "      <td>236</td>\n",
       "      <td>2253780</td>\n",
       "      <td>Scrapyard Arena</td>\n",
       "    </tr>\n",
       "  </tbody>\n",
       "</table>\n",
       "</div>"
      ],
      "text/plain": [
       "     index   app_id         app_name\n",
       "201    236  2253780  Scrapyard Arena"
      ]
     },
     "execution_count": 166,
     "metadata": {},
     "output_type": "execute_result"
    }
   ],
   "source": [
    "appl_df[appl_df['app_id'] == 2253780]"
   ]
  },
  {
   "cell_type": "code",
   "execution_count": 213,
   "id": "ccff231c-fcfc-4663-bbbc-c2ca0d625a11",
   "metadata": {},
   "outputs": [
    {
     "data": {
      "text/plain": [
       "2256670"
      ]
     },
     "execution_count": 213,
     "metadata": {},
     "output_type": "execute_result"
    }
   ],
   "source": [
    "appl_df.app_id[10]"
   ]
  },
  {
   "cell_type": "code",
   "execution_count": 170,
   "id": "60c30363-cbf0-47f3-8533-d10b0d18bfb1",
   "metadata": {},
   "outputs": [
    {
     "data": {
      "text/html": [
       "<div>\n",
       "<style scoped>\n",
       "    .dataframe tbody tr th:only-of-type {\n",
       "        vertical-align: middle;\n",
       "    }\n",
       "\n",
       "    .dataframe tbody tr th {\n",
       "        vertical-align: top;\n",
       "    }\n",
       "\n",
       "    .dataframe thead th {\n",
       "        text-align: right;\n",
       "    }\n",
       "</style>\n",
       "<table border=\"1\" class=\"dataframe\">\n",
       "  <thead>\n",
       "    <tr style=\"text-align: right;\">\n",
       "      <th></th>\n",
       "      <th>index</th>\n",
       "      <th>app_id</th>\n",
       "      <th>app_name</th>\n",
       "    </tr>\n",
       "  </thead>\n",
       "  <tbody>\n",
       "  </tbody>\n",
       "</table>\n",
       "</div>"
      ],
      "text/plain": [
       "Empty DataFrame\n",
       "Columns: [index, app_id, app_name]\n",
       "Index: []"
      ]
     },
     "execution_count": 170,
     "metadata": {},
     "output_type": "execute_result"
    }
   ],
   "source": [
    "appl_df[appl_df[\"app_name\"] == \"\"]"
   ]
  },
  {
   "cell_type": "code",
   "execution_count": 36,
   "id": "b5344f30-be5b-4668-98f9-eb94a1855054",
   "metadata": {},
   "outputs": [
    {
     "ename": "KeyError",
     "evalue": "'data'",
     "output_type": "error",
     "traceback": [
      "\u001b[0;31m---------------------------------------------------------------------------\u001b[0m",
      "\u001b[0;31mKeyError\u001b[0m                                  Traceback (most recent call last)",
      "Cell \u001b[0;32mIn[36], line 5\u001b[0m\n\u001b[1;32m      2\u001b[0m var_int \u001b[38;5;241m=\u001b[39m \u001b[38;5;241m20006441\u001b[39m\n\u001b[1;32m      3\u001b[0m info_res \u001b[38;5;241m=\u001b[39m requests\u001b[38;5;241m.\u001b[39mget(det_url\u001b[38;5;241m.\u001b[39mformat(var_int))\n\u001b[0;32m----> 5\u001b[0m det_json \u001b[38;5;241m=\u001b[39m \u001b[43minfo_res\u001b[49m\u001b[38;5;241;43m.\u001b[39;49m\u001b[43mjson\u001b[49m\u001b[43m(\u001b[49m\u001b[43m)\u001b[49m\u001b[43m[\u001b[49m\u001b[38;5;28;43mstr\u001b[39;49m\u001b[43m(\u001b[49m\u001b[43mvar_int\u001b[49m\u001b[43m)\u001b[49m\u001b[43m]\u001b[49m\u001b[43m[\u001b[49m\u001b[38;5;124;43m\"\u001b[39;49m\u001b[38;5;124;43mdata\u001b[39;49m\u001b[38;5;124;43m\"\u001b[39;49m\u001b[43m]\u001b[49m[\u001b[38;5;124m'\u001b[39m\u001b[38;5;124mname\u001b[39m\u001b[38;5;124m'\u001b[39m]\n\u001b[1;32m      6\u001b[0m det_json\n",
      "\u001b[0;31mKeyError\u001b[0m: 'data'"
     ]
    }
   ],
   "source": [
    "det_url = \"http://store.steampowered.com/api/appdetails?appids={}\"\n",
    "var_int = 20006441\n",
    "info_res = requests.get(det_url.format(var_int))\n",
    "\n",
    "det_json = info_res.json()[str(var_int)][\"data\"]['name']\n",
    "det_json\n"
   ]
  },
  {
   "cell_type": "code",
   "execution_count": 187,
   "id": "b6d9b895-53f9-40e1-943d-cbce1a0c6394",
   "metadata": {},
   "outputs": [],
   "source": [
    "def app_data_1(df):\n",
    "    det_url = \"http://store.steampowered.com/api/appdetails?appids={}\"\n",
    "    app_data_df = pd.DataFrame(columns=[\"App Name\",\"Release Date\",\"Developers\",\"Publishers\"])\n",
    "    for i in range(1,len(df['app_id'])):\n",
    "        resp = requests.get(det_url.format(df['app_id'][i]))\n",
    "        resp_op = resp.json()[str(df['app_id'][i])]['success']\n",
    "        if(resp_op == \"true\"):\n",
    "            print(df[\"app_id\"][i])\n",
    "            app_data_df['App Name'][i] = resp.json()[str(df['app_id'][i])]['data']['name']\n",
    "            app_data_df['Release Date'][i] = resp.json()[str(df['app_id'][i])]['data']['release_date']\n",
    "            app_data_df['Developers'][i] = resp.json()[str(df['app_id'][i])]['data']['developers']\n",
    "            app_data_df['Publishers'][i] = resp.json()[str(df['app_id'][i])]['data']['publishers']\n",
    "    return app_data_df \n",
    "        \n",
    "        "
   ]
  },
  {
   "cell_type": "code",
   "execution_count": 211,
   "id": "05821711-95e3-41f8-bc34-651740fb0b0b",
   "metadata": {},
   "outputs": [],
   "source": [
    "def app_data(df):\n",
    "    det_url = \"http://store.steampowered.com/api/appdetails?appids={}\"\n",
    "    app_data_df = []\n",
    "    for i in tqdm(range(0,len(df['app_id']))):\n",
    "        resp = requests.get(det_url.format(df['app_id'][i]))\n",
    "        resp_op = resp.json()[str(df['app_id'][i])]['success']\n",
    "        #print(str(df[\"app_id\"][i]) +\" \"+str(resp_op))\n",
    "        if(str(resp_op) == \"True\"):\n",
    "            #print(\"inside func\")\n",
    "            app_data_df.append([resp.json()[str(df['app_id'][i])]['data']['name'], resp.json()[str(df['app_id'][i])]['data']['release_date'], resp.json()[str(df['app_id'][i])]['data']['developers'], resp.json()[str(df['app_id'][i])]['data']['publishers']]) \n",
    "    return app_data_df "
   ]
  },
  {
   "cell_type": "code",
   "execution_count": 240,
   "id": "d74e7880-3eff-4f08-bf73-dd7f3791aaf6",
   "metadata": {},
   "outputs": [],
   "source": [
    "def app_data_keys(df):\n",
    "    det_url = \"http://store.steampowered.com/api/appdetails?appids={}\"\n",
    "    app_data_keys = []\n",
    "    for i in tqdm(range(0,10)):\n",
    "        resp = requests.get(det_url.format(df['app_id'][i]))\n",
    "        resp_op = resp.json()[str(df['app_id'][i])]['success']\n",
    "        #print(str(df[\"app_id\"][i]) +\" \"+str(resp_op))\n",
    "        if(str(resp_op) == \"True\"):\n",
    "            #print(\"inside func\")\n",
    "            app_data_keys.append([[str(df['app_id'][i])], list(resp.json()[str(df['app_id'][i])]['data'].keys())]) \n",
    "    return app_data_keys "
   ]
  },
  {
   "cell_type": "code",
   "execution_count": 241,
   "id": "d7a76271-bb7a-4b40-9e98-7573fe434acb",
   "metadata": {},
   "outputs": [
    {
     "name": "stderr",
     "output_type": "stream",
     "text": [
      "100%|███████████████████████████████████████████| 10/10 [00:09<00:00,  1.03it/s]\n"
     ]
    }
   ],
   "source": [
    "test_keys = app_data_keys(appl_df)"
   ]
  },
  {
   "cell_type": "code",
   "execution_count": 148,
   "id": "0dd1438c-8752-4cf5-a756-d7071f6ad0fb",
   "metadata": {},
   "outputs": [
    {
     "data": {
      "text/plain": [
       "False"
      ]
     },
     "execution_count": 148,
     "metadata": {},
     "output_type": "execute_result"
    }
   ],
   "source": [
    "df = appl_df\n",
    "resp = requests.get(det_url.format(df['app_id'][2]))\n",
    "resp_op = resp.json()[str(df['app_id'][2])]['success']\n",
    "resp_op"
   ]
  },
  {
   "cell_type": "code",
   "execution_count": 242,
   "id": "d464bdcf-4186-4208-bff7-2f726e493300",
   "metadata": {},
   "outputs": [
    {
     "data": {
      "text/plain": [
       "[[['2256500'],\n",
       "  ['type',\n",
       "   'name',\n",
       "   'steam_appid',\n",
       "   'required_age',\n",
       "   'is_free',\n",
       "   'detailed_description',\n",
       "   'about_the_game',\n",
       "   'short_description',\n",
       "   'fullgame',\n",
       "   'supported_languages',\n",
       "   'header_image',\n",
       "   'capsule_image',\n",
       "   'capsule_imagev5',\n",
       "   'website',\n",
       "   'pc_requirements',\n",
       "   'mac_requirements',\n",
       "   'linux_requirements',\n",
       "   'developers',\n",
       "   'publishers',\n",
       "   'price_overview',\n",
       "   'packages',\n",
       "   'package_groups',\n",
       "   'platforms',\n",
       "   'categories',\n",
       "   'genres',\n",
       "   'screenshots',\n",
       "   'movies',\n",
       "   'release_date',\n",
       "   'support_info',\n",
       "   'background',\n",
       "   'background_raw',\n",
       "   'content_descriptors',\n",
       "   'ratings']],\n",
       " [['2256520'],\n",
       "  ['type',\n",
       "   'name',\n",
       "   'steam_appid',\n",
       "   'required_age',\n",
       "   'is_free',\n",
       "   'detailed_description',\n",
       "   'about_the_game',\n",
       "   'short_description',\n",
       "   'supported_languages',\n",
       "   'header_image',\n",
       "   'capsule_image',\n",
       "   'capsule_imagev5',\n",
       "   'website',\n",
       "   'pc_requirements',\n",
       "   'mac_requirements',\n",
       "   'linux_requirements',\n",
       "   'developers',\n",
       "   'publishers',\n",
       "   'price_overview',\n",
       "   'packages',\n",
       "   'package_groups',\n",
       "   'platforms',\n",
       "   'categories',\n",
       "   'genres',\n",
       "   'screenshots',\n",
       "   'movies',\n",
       "   'achievements',\n",
       "   'release_date',\n",
       "   'support_info',\n",
       "   'background',\n",
       "   'background_raw',\n",
       "   'content_descriptors',\n",
       "   'ratings']],\n",
       " [['2256540'],\n",
       "  ['type',\n",
       "   'name',\n",
       "   'steam_appid',\n",
       "   'required_age',\n",
       "   'is_free',\n",
       "   'detailed_description',\n",
       "   'about_the_game',\n",
       "   'short_description',\n",
       "   'fullgame',\n",
       "   'supported_languages',\n",
       "   'header_image',\n",
       "   'capsule_image',\n",
       "   'capsule_imagev5',\n",
       "   'website',\n",
       "   'pc_requirements',\n",
       "   'mac_requirements',\n",
       "   'linux_requirements',\n",
       "   'legal_notice',\n",
       "   'developers',\n",
       "   'publishers',\n",
       "   'package_groups',\n",
       "   'platforms',\n",
       "   'categories',\n",
       "   'release_date',\n",
       "   'support_info',\n",
       "   'background',\n",
       "   'background_raw',\n",
       "   'content_descriptors',\n",
       "   'ratings']],\n",
       " [['2256550'],\n",
       "  ['type',\n",
       "   'name',\n",
       "   'steam_appid',\n",
       "   'required_age',\n",
       "   'is_free',\n",
       "   'controller_support',\n",
       "   'detailed_description',\n",
       "   'about_the_game',\n",
       "   'short_description',\n",
       "   'supported_languages',\n",
       "   'header_image',\n",
       "   'capsule_image',\n",
       "   'capsule_imagev5',\n",
       "   'website',\n",
       "   'pc_requirements',\n",
       "   'mac_requirements',\n",
       "   'linux_requirements',\n",
       "   'developers',\n",
       "   'publishers',\n",
       "   'price_overview',\n",
       "   'packages',\n",
       "   'package_groups',\n",
       "   'platforms',\n",
       "   'categories',\n",
       "   'genres',\n",
       "   'screenshots',\n",
       "   'movies',\n",
       "   'release_date',\n",
       "   'support_info',\n",
       "   'background',\n",
       "   'background_raw',\n",
       "   'content_descriptors',\n",
       "   'ratings']],\n",
       " [['2256600'],\n",
       "  ['type',\n",
       "   'name',\n",
       "   'steam_appid',\n",
       "   'required_age',\n",
       "   'is_free',\n",
       "   'detailed_description',\n",
       "   'about_the_game',\n",
       "   'short_description',\n",
       "   'supported_languages',\n",
       "   'header_image',\n",
       "   'capsule_image',\n",
       "   'capsule_imagev5',\n",
       "   'website',\n",
       "   'pc_requirements',\n",
       "   'mac_requirements',\n",
       "   'linux_requirements',\n",
       "   'legal_notice',\n",
       "   'developers',\n",
       "   'publishers',\n",
       "   'price_overview',\n",
       "   'packages',\n",
       "   'package_groups',\n",
       "   'platforms',\n",
       "   'categories',\n",
       "   'genres',\n",
       "   'screenshots',\n",
       "   'movies',\n",
       "   'release_date',\n",
       "   'support_info',\n",
       "   'background',\n",
       "   'background_raw',\n",
       "   'content_descriptors',\n",
       "   'ratings']],\n",
       " [['2256640'],\n",
       "  ['type',\n",
       "   'name',\n",
       "   'steam_appid',\n",
       "   'required_age',\n",
       "   'is_free',\n",
       "   'detailed_description',\n",
       "   'about_the_game',\n",
       "   'short_description',\n",
       "   'fullgame',\n",
       "   'supported_languages',\n",
       "   'header_image',\n",
       "   'capsule_image',\n",
       "   'capsule_imagev5',\n",
       "   'website',\n",
       "   'pc_requirements',\n",
       "   'mac_requirements',\n",
       "   'linux_requirements',\n",
       "   'developers',\n",
       "   'publishers',\n",
       "   'package_groups',\n",
       "   'platforms',\n",
       "   'categories',\n",
       "   'screenshots',\n",
       "   'release_date',\n",
       "   'support_info',\n",
       "   'background',\n",
       "   'background_raw',\n",
       "   'content_descriptors',\n",
       "   'ratings']],\n",
       " [['2256650'],\n",
       "  ['type',\n",
       "   'name',\n",
       "   'steam_appid',\n",
       "   'required_age',\n",
       "   'is_free',\n",
       "   'detailed_description',\n",
       "   'about_the_game',\n",
       "   'short_description',\n",
       "   'supported_languages',\n",
       "   'header_image',\n",
       "   'capsule_image',\n",
       "   'capsule_imagev5',\n",
       "   'website',\n",
       "   'pc_requirements',\n",
       "   'mac_requirements',\n",
       "   'linux_requirements',\n",
       "   'developers',\n",
       "   'publishers',\n",
       "   'price_overview',\n",
       "   'packages',\n",
       "   'package_groups',\n",
       "   'platforms',\n",
       "   'categories',\n",
       "   'genres',\n",
       "   'screenshots',\n",
       "   'movies',\n",
       "   'release_date',\n",
       "   'support_info',\n",
       "   'background',\n",
       "   'background_raw',\n",
       "   'content_descriptors',\n",
       "   'ratings']]]"
      ]
     },
     "execution_count": 242,
     "metadata": {},
     "output_type": "execute_result"
    }
   ],
   "source": [
    "test_keys"
   ]
  },
  {
   "cell_type": "code",
   "execution_count": 243,
   "id": "8e0c7874-6fb0-4a22-ae99-824da1d77539",
   "metadata": {},
   "outputs": [
    {
     "data": {
      "text/html": [
       "<div>\n",
       "<style scoped>\n",
       "    .dataframe tbody tr th:only-of-type {\n",
       "        vertical-align: middle;\n",
       "    }\n",
       "\n",
       "    .dataframe tbody tr th {\n",
       "        vertical-align: top;\n",
       "    }\n",
       "\n",
       "    .dataframe thead th {\n",
       "        text-align: right;\n",
       "    }\n",
       "</style>\n",
       "<table border=\"1\" class=\"dataframe\">\n",
       "  <thead>\n",
       "    <tr style=\"text-align: right;\">\n",
       "      <th></th>\n",
       "      <th>0</th>\n",
       "      <th>1</th>\n",
       "    </tr>\n",
       "  </thead>\n",
       "  <tbody>\n",
       "    <tr>\n",
       "      <th>0</th>\n",
       "      <td>[2256500]</td>\n",
       "      <td>[type, name, steam_appid, required_age, is_fre...</td>\n",
       "    </tr>\n",
       "    <tr>\n",
       "      <th>1</th>\n",
       "      <td>[2256520]</td>\n",
       "      <td>[type, name, steam_appid, required_age, is_fre...</td>\n",
       "    </tr>\n",
       "    <tr>\n",
       "      <th>2</th>\n",
       "      <td>[2256540]</td>\n",
       "      <td>[type, name, steam_appid, required_age, is_fre...</td>\n",
       "    </tr>\n",
       "    <tr>\n",
       "      <th>3</th>\n",
       "      <td>[2256550]</td>\n",
       "      <td>[type, name, steam_appid, required_age, is_fre...</td>\n",
       "    </tr>\n",
       "    <tr>\n",
       "      <th>4</th>\n",
       "      <td>[2256600]</td>\n",
       "      <td>[type, name, steam_appid, required_age, is_fre...</td>\n",
       "    </tr>\n",
       "    <tr>\n",
       "      <th>5</th>\n",
       "      <td>[2256640]</td>\n",
       "      <td>[type, name, steam_appid, required_age, is_fre...</td>\n",
       "    </tr>\n",
       "    <tr>\n",
       "      <th>6</th>\n",
       "      <td>[2256650]</td>\n",
       "      <td>[type, name, steam_appid, required_age, is_fre...</td>\n",
       "    </tr>\n",
       "  </tbody>\n",
       "</table>\n",
       "</div>"
      ],
      "text/plain": [
       "           0                                                  1\n",
       "0  [2256500]  [type, name, steam_appid, required_age, is_fre...\n",
       "1  [2256520]  [type, name, steam_appid, required_age, is_fre...\n",
       "2  [2256540]  [type, name, steam_appid, required_age, is_fre...\n",
       "3  [2256550]  [type, name, steam_appid, required_age, is_fre...\n",
       "4  [2256600]  [type, name, steam_appid, required_age, is_fre...\n",
       "5  [2256640]  [type, name, steam_appid, required_age, is_fre...\n",
       "6  [2256650]  [type, name, steam_appid, required_age, is_fre..."
      ]
     },
     "execution_count": 243,
     "metadata": {},
     "output_type": "execute_result"
    }
   ],
   "source": [
    "pd.DataFrame(test_keys)"
   ]
  },
  {
   "cell_type": "code",
   "execution_count": null,
   "id": "2b2cb454-5fae-49e1-ac5b-34ea5fb9f811",
   "metadata": {},
   "outputs": [],
   "source": []
  }
 ],
 "metadata": {
  "kernelspec": {
   "display_name": "Python 3 (ipykernel)",
   "language": "python",
   "name": "python3"
  },
  "language_info": {
   "codemirror_mode": {
    "name": "ipython",
    "version": 3
   },
   "file_extension": ".py",
   "mimetype": "text/x-python",
   "name": "python",
   "nbconvert_exporter": "python",
   "pygments_lexer": "ipython3",
   "version": "3.12.5"
  }
 },
 "nbformat": 4,
 "nbformat_minor": 5
}
